{
 "cells": [
  {
   "cell_type": "code",
   "execution_count": 3,
   "metadata": {},
   "outputs": [
    {
     "name": "stdout",
     "output_type": "stream",
     "text": [
      "Epoch 1/20\n"
     ]
    },
    {
     "name": "stderr",
     "output_type": "stream",
     "text": [
      "c:\\Users\\Usuario\\AppData\\Local\\Programs\\Python\\Python311\\Lib\\site-packages\\keras\\src\\layers\\core\\dense.py:87: UserWarning: Do not pass an `input_shape`/`input_dim` argument to a layer. When using Sequential models, prefer using an `Input(shape)` object as the first layer in the model instead.\n",
      "  super().__init__(activity_regularizer=activity_regularizer, **kwargs)\n"
     ]
    },
    {
     "name": "stdout",
     "output_type": "stream",
     "text": [
      "\u001b[1m9438/9438\u001b[0m \u001b[32m━━━━━━━━━━━━━━━━━━━━\u001b[0m\u001b[37m\u001b[0m \u001b[1m10s\u001b[0m 966us/step - loss: 0.3731 - val_loss: 0.3565\n",
      "Epoch 2/20\n",
      "\u001b[1m9438/9438\u001b[0m \u001b[32m━━━━━━━━━━━━━━━━━━━━\u001b[0m\u001b[37m\u001b[0m \u001b[1m9s\u001b[0m 923us/step - loss: 0.3590 - val_loss: 0.3561\n",
      "Epoch 3/20\n",
      "\u001b[1m9438/9438\u001b[0m \u001b[32m━━━━━━━━━━━━━━━━━━━━\u001b[0m\u001b[37m\u001b[0m \u001b[1m10s\u001b[0m 1ms/step - loss: 0.3574 - val_loss: 0.3540\n",
      "Epoch 4/20\n",
      "\u001b[1m9438/9438\u001b[0m \u001b[32m━━━━━━━━━━━━━━━━━━━━\u001b[0m\u001b[37m\u001b[0m \u001b[1m9s\u001b[0m 947us/step - loss: 0.3581 - val_loss: 0.3539\n",
      "Epoch 5/20\n",
      "\u001b[1m9438/9438\u001b[0m \u001b[32m━━━━━━━━━━━━━━━━━━━━\u001b[0m\u001b[37m\u001b[0m \u001b[1m9s\u001b[0m 930us/step - loss: 0.3561 - val_loss: 0.3542\n",
      "Epoch 6/20\n",
      "\u001b[1m9438/9438\u001b[0m \u001b[32m━━━━━━━━━━━━━━━━━━━━\u001b[0m\u001b[37m\u001b[0m \u001b[1m9s\u001b[0m 932us/step - loss: 0.3568 - val_loss: 0.3534\n",
      "Epoch 7/20\n",
      "\u001b[1m9438/9438\u001b[0m \u001b[32m━━━━━━━━━━━━━━━━━━━━\u001b[0m\u001b[37m\u001b[0m \u001b[1m9s\u001b[0m 934us/step - loss: 0.3552 - val_loss: 0.3540\n",
      "Epoch 8/20\n",
      "\u001b[1m9438/9438\u001b[0m \u001b[32m━━━━━━━━━━━━━━━━━━━━\u001b[0m\u001b[37m\u001b[0m \u001b[1m9s\u001b[0m 917us/step - loss: 0.3575 - val_loss: 0.3534\n",
      "Epoch 9/20\n",
      "\u001b[1m9438/9438\u001b[0m \u001b[32m━━━━━━━━━━━━━━━━━━━━\u001b[0m\u001b[37m\u001b[0m \u001b[1m9s\u001b[0m 909us/step - loss: 0.3582 - val_loss: 0.3539\n",
      "Epoch 10/20\n",
      "\u001b[1m9438/9438\u001b[0m \u001b[32m━━━━━━━━━━━━━━━━━━━━\u001b[0m\u001b[37m\u001b[0m \u001b[1m9s\u001b[0m 906us/step - loss: 0.3560 - val_loss: 0.3542\n",
      "Epoch 11/20\n",
      "\u001b[1m9438/9438\u001b[0m \u001b[32m━━━━━━━━━━━━━━━━━━━━\u001b[0m\u001b[37m\u001b[0m \u001b[1m9s\u001b[0m 932us/step - loss: 0.3572 - val_loss: 0.3530\n",
      "Epoch 12/20\n",
      "\u001b[1m9438/9438\u001b[0m \u001b[32m━━━━━━━━━━━━━━━━━━━━\u001b[0m\u001b[37m\u001b[0m \u001b[1m9s\u001b[0m 994us/step - loss: 0.3568 - val_loss: 0.3537\n",
      "Epoch 13/20\n",
      "\u001b[1m9438/9438\u001b[0m \u001b[32m━━━━━━━━━━━━━━━━━━━━\u001b[0m\u001b[37m\u001b[0m \u001b[1m9s\u001b[0m 938us/step - loss: 0.3549 - val_loss: 0.3540\n",
      "Epoch 14/20\n",
      "\u001b[1m9438/9438\u001b[0m \u001b[32m━━━━━━━━━━━━━━━━━━━━\u001b[0m\u001b[37m\u001b[0m \u001b[1m9s\u001b[0m 947us/step - loss: 0.3550 - val_loss: 0.3531\n",
      "Epoch 15/20\n",
      "\u001b[1m9438/9438\u001b[0m \u001b[32m━━━━━━━━━━━━━━━━━━━━\u001b[0m\u001b[37m\u001b[0m \u001b[1m9s\u001b[0m 1ms/step - loss: 0.3567 - val_loss: 0.3533\n",
      "Epoch 16/20\n",
      "\u001b[1m9438/9438\u001b[0m \u001b[32m━━━━━━━━━━━━━━━━━━━━\u001b[0m\u001b[37m\u001b[0m \u001b[1m9s\u001b[0m 914us/step - loss: 0.3552 - val_loss: 0.3545\n",
      "Epoch 17/20\n",
      "\u001b[1m9438/9438\u001b[0m \u001b[32m━━━━━━━━━━━━━━━━━━━━\u001b[0m\u001b[37m\u001b[0m \u001b[1m9s\u001b[0m 928us/step - loss: 0.3545 - val_loss: 0.3531\n",
      "Epoch 18/20\n",
      "\u001b[1m9438/9438\u001b[0m \u001b[32m━━━━━━━━━━━━━━━━━━━━\u001b[0m\u001b[37m\u001b[0m \u001b[1m9s\u001b[0m 907us/step - loss: 0.3564 - val_loss: 0.3529\n",
      "Epoch 19/20\n",
      "\u001b[1m9438/9438\u001b[0m \u001b[32m━━━━━━━━━━━━━━━━━━━━\u001b[0m\u001b[37m\u001b[0m \u001b[1m9s\u001b[0m 949us/step - loss: 0.3561 - val_loss: 0.3553\n",
      "Epoch 20/20\n",
      "\u001b[1m9438/9438\u001b[0m \u001b[32m━━━━━━━━━━━━━━━━━━━━\u001b[0m\u001b[37m\u001b[0m \u001b[1m9s\u001b[0m 1000us/step - loss: 0.3564 - val_loss: 0.3531\n",
      "\u001b[1m2950/2950\u001b[0m \u001b[32m━━━━━━━━━━━━━━━━━━━━\u001b[0m\u001b[37m\u001b[0m \u001b[1m2s\u001b[0m 567us/step\n"
     ]
    },
    {
     "name": "stderr",
     "output_type": "stream",
     "text": [
      "WARNING:absl:You are saving your model as an HDF5 file via `model.save()` or `keras.saving.save_model(model)`. This file format is considered legacy. We recommend using instead the native Keras format, e.g. `model.save('my_model.keras')` or `keras.saving.save_model(model, 'my_model.keras')`. \n"
     ]
    },
    {
     "name": "stdout",
     "output_type": "stream",
     "text": [
      "Mean Squared Error: 973.8039883413746\n",
      "Mean Absolute Error: 25.016805307019805\n",
      "Mean Relative Error: 0.1016217534073071\n"
     ]
    },
    {
     "data": {
      "text/plain": [
       "['scaler_y.pkl']"
      ]
     },
     "execution_count": 3,
     "metadata": {},
     "output_type": "execute_result"
    }
   ],
   "source": [
    "import mlflow\n",
    "import mlflow.keras\n",
    "from sklearn.model_selection import train_test_split\n",
    "from sklearn.preprocessing import StandardScaler, OneHotEncoder\n",
    "from sklearn.compose import ColumnTransformer\n",
    "from sklearn.pipeline import Pipeline\n",
    "from tensorflow.keras.models import Sequential\n",
    "from tensorflow.keras.layers import Dense\n",
    "from sklearn.metrics import mean_squared_error, mean_absolute_error\n",
    "import numpy as np\n",
    "import pandas as pd\n",
    "import joblib\n",
    "from tensorflow.keras.models import save_model\n",
    "\n",
    "# Cargar los datos desde el archivo CSV\n",
    "datos = pd.read_csv('datossaber11_original.csv')\n",
    "\n",
    "# Lista de columnas seleccionadas\n",
    "columnas_seleccionadas = ['cole_area_ubicacion', 'cole_bilingue', 'cole_calendario',\n",
    "                          'cole_genero', 'estu_depto_presentacion',\n",
    "                          'fami_estratovivienda', 'fami_tieneautomovil', 'fami_tienecomputador',\n",
    "                          'fami_tieneinternet', 'fami_tienelavadora', 'desemp_ingles', 'punt_global']\n",
    "\n",
    "# Crear un nuevo DataFrame con las columnas seleccionadas\n",
    "data = datos[columnas_seleccionadas]\n",
    "\n",
    "# Selecciona las características (X) y la variable objetivo (y)\n",
    "X = data.drop('punt_global', axis=1)  # Excluye la variable objetivo\n",
    "y = data['punt_global']\n",
    "\n",
    "# Normalizar la variable objetivo\n",
    "scaler_y = StandardScaler()\n",
    "y_scaled = scaler_y.fit_transform(y.values.reshape(-1, 1)).flatten()\n",
    "\n",
    "# Divide los datos en conjuntos de entrenamiento y prueba\n",
    "X_train, X_test, y_train, y_test = train_test_split(X, y_scaled, test_size=0.2, random_state=42)\n",
    "\n",
    "# Definir las columnas categóricas\n",
    "categorical_features = ['cole_area_ubicacion', 'cole_bilingue', 'cole_calendario',\n",
    "                        'cole_genero', 'estu_depto_presentacion',\n",
    "                        'fami_estratovivienda', 'fami_tieneautomovil', 'fami_tienecomputador',\n",
    "                        'fami_tieneinternet', 'fami_tienelavadora', 'desemp_ingles']\n",
    "\n",
    "# Crear el transformador de columnas\n",
    "preprocessor = ColumnTransformer(\n",
    "    transformers=[\n",
    "        ('cat', OneHotEncoder(), categorical_features)\n",
    "    ])\n",
    "\n",
    "# Crear el pipeline de preprocesamiento\n",
    "pipeline = Pipeline(steps=[('preprocessor', preprocessor),\n",
    "                           ('scaler', StandardScaler())])\n",
    "\n",
    "# Aplicar el pipeline a los datos de entrenamiento y prueba\n",
    "X_train_scaled = pipeline.fit_transform(X_train)\n",
    "X_test_scaled = pipeline.transform(X_test)\n",
    "\n",
    "# Parámetros variables\n",
    "epochs = 20\n",
    "batch_size = 32\n",
    "\n",
    "# Configuración y entrenamiento del modelo con MLflow\n",
    "# Crear y compilar el modelo\n",
    "model = Sequential([\n",
    "    Dense(256, activation='relu', input_shape=(X_train_scaled.shape[1],)),\n",
    "    Dense(128, activation='relu'),\n",
    "    Dense(64, activation='relu'),\n",
    "    Dense(1)  # Capa de salida sin activación para regresión\n",
    "])\n",
    "    \n",
    "model.compile(optimizer='adam', loss='mean_squared_error')\n",
    "    \n",
    "# Entrenar el modelo\n",
    "history = model.fit(X_train_scaled, y_train, epochs=epochs, batch_size=batch_size, validation_split=0.2)\n",
    "\n",
    "# Evaluar el modelo en el conjunto de prueba\n",
    "y_pred_scaled = model.predict(X_test_scaled).flatten()\n",
    "\n",
    "# Desnormalizar las predicciones\n",
    "y_pred = scaler_y.inverse_transform(y_pred_scaled.reshape(-1, 1)).flatten()\n",
    "y_test_actual = scaler_y.inverse_transform(y_test.reshape(-1, 1)).flatten()\n",
    "\n",
    "# Calcular métricas\n",
    "mse = mean_squared_error(y_test_actual, y_pred)\n",
    "mae = mean_absolute_error(y_test_actual, y_pred)\n",
    "mre = np.mean(np.abs((y_test_actual - y_pred) / y_test_actual))\n",
    "\n",
    "print(f\"Mean Squared Error: {mse}\")\n",
    "print(f\"Mean Absolute Error: {mae}\")\n",
    "print(f\"Mean Relative Error: {mre}\")\n",
    "\n",
    "# Guardar el modelo\n",
    "save_model(model, 'modelo_saber11.h5')\n",
    "\n",
    "# Guardar el pipeline y el scaler de y\n",
    "joblib.dump(pipeline, 'pipeline.pkl')\n",
    "joblib.dump(scaler_y, 'scaler_y.pkl')"
   ]
  },
  {
   "cell_type": "code",
   "execution_count": 7,
   "metadata": {},
   "outputs": [
    {
     "name": "stderr",
     "output_type": "stream",
     "text": [
      "WARNING:absl:You are saving your model as an HDF5 file via `model.save()` or `keras.saving.save_model(model)`. This file format is considered legacy. We recommend using instead the native Keras format, e.g. `model.save('my_model.keras')` or `keras.saving.save_model(model, 'my_model.keras')`. \n"
     ]
    }
   ],
   "source": [
    "model.save('modelo_saber11.h5')"
   ]
  }
 ],
 "metadata": {
  "kernelspec": {
   "display_name": "Python 3",
   "language": "python",
   "name": "python3"
  },
  "language_info": {
   "codemirror_mode": {
    "name": "ipython",
    "version": 3
   },
   "file_extension": ".py",
   "mimetype": "text/x-python",
   "name": "python",
   "nbconvert_exporter": "python",
   "pygments_lexer": "ipython3",
   "version": "3.11.7"
  }
 },
 "nbformat": 4,
 "nbformat_minor": 2
}
